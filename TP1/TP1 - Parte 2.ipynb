{
 "cells": [
  {
   "cell_type": "markdown",
   "metadata": {
    "collapsed": true,
    "id": "Dh8MkXaG-c9Y"
   },
   "source": [
    "# Curso de Big Data. Otoño 2024\n",
    "\n",
    "## Trabajo Práctico 1 - Parte 2"
   ]
  },
  {
   "cell_type": "markdown",
   "metadata": {
    "id": "RhBlm6mZ-c9e"
   },
   "source": [
    "### Reglas de formato y presentación\n",
    "- El trabajo debe estar bien comentado (utilizando #) para que el código sea fácil de entender por sus compañeros y profesores.\n",
    "\n",
    "- El mismo debe ser completado en este Jupyter Notebook y entregado como tal, es decir en un archivo .ipynb\n"
   ]
  },
  {
   "cell_type": "markdown",
   "metadata": {
    "id": "ZEjGaa4U-c9g"
   },
   "source": [
    "### Fecha de entrega:\n",
    "Domingo 24 de marzo a las 23:59hs"
   ]
  },
  {
   "cell_type": "markdown",
   "metadata": {
    "id": "N9TU2y7E-c9h"
   },
   "source": [
    "### Modalidad de entrega\n",
    "- Al finalizar el trabajo práctico deben hacer un último <i>commit</i> en su repositorio de GitHub con el mensaje “Entrega final del tp”. \n",
    "- Asegurense de haber creado una carpeta llamada TP1. Este Jupyter Notebook y el correspondiente al TP1 - Parte 2 deben estar dentro de esa carpeta.\n",
    "- También deben enviar el link de su repositorio -para que pueda ser clonado y corregido- al siguiente email: v.oubina@gmail.com\n",
    "- La última versión en el repositorio es la que será evaluada. Por lo que es importante que: \n",
    "    - No envien el correo hasta no haber terminado y estar seguros de que han hecho el <i>commit y push</i> a la versión final que quieren entregar. Debido a que se pueden tomar hasta 3 días de extensión a lo largo del curso, no se corregirán sus tareas hasta no recibir el correo.\n",
    "    - No hagan nuevos <i>push</i> despues de haber entregado su versión final. Esto generaría confusión acerca de que versión es la que quieren que se les corrija. "
   ]
  },
  {
   "cell_type": "code",
   "execution_count": 1,
   "metadata": {},
   "outputs": [],
   "source": [
    "#En primer lugar, nos aseguramos de instalar el paquete requests y pandas para luego importarlo a nuestro código\n",
    "#%pip install requests \n",
    "#%pip install pandas\n",
    "#%pip install matplotlib\n",
    "import requests \n",
    "import pandas as pd\n",
    "import matplotlib.pyplot as plt"
   ]
  },
  {
   "cell_type": "markdown",
   "metadata": {},
   "source": [
    "### Parte A"
   ]
  },
  {
   "cell_type": "markdown",
   "metadata": {
    "id": "ZXbrPraa-c9i"
   },
   "source": [
    "#### Ejercicio 1\n",
    "Usando la API de Mercado Libre, obtener los ítems de una consulta de búsqueda. Pueden buscar cualquier producto de su interés."
   ]
  },
  {
   "cell_type": "code",
   "execution_count": 7,
   "metadata": {},
   "outputs": [
    {
     "name": "stdout",
     "output_type": "stream",
     "text": [
      "['Whisky Johnnie Walker Red Label X 1 Litro', 'Johnnie Walker Black Label X Litro', 'Johnnie Walker Blue Label X750cc', 'Johnnie Walker Black Label 1 Litro Con Estuche', 'Whisky Johnny Walker Jw Gold Label Reserve Johnnie 750ml']\n"
     ]
    }
   ],
   "source": [
    "#Obtenemos los datos, junto a su matriz json para obtener el listado de mercadería relacionado a la búsqueda\n",
    "buscar = \"Whisky Johnny Walker\"\n",
    "url = \"https://api.mercadolibre.com/sites/{}/search?q={}\".format(\"MLA\", buscar.replace(\" \", \"%20\"))\n",
    "response = requests.request(\"GET\", url)\n",
    "data = response.json()\n",
    "#Iniciamos el listado de objetos en nuestros resultados de busqueda\n",
    "p = 0\n",
    "listado=[]\n",
    "while p<len(data['results']):\n",
    "    item = data['results'][p]['title']\n",
    "    listado.append(item)\n",
    "    p=p+1\n",
    "print(listado[:5])"
   ]
  },
  {
   "cell_type": "markdown",
   "metadata": {},
   "source": [
    "#### Ejercicio 2\n",
    "Guarden los precios de los ítems obtenidos en un dataframe y calculen el precio promedio, el mínimo y el máximo. "
   ]
  },
  {
   "cell_type": "code",
   "execution_count": 8,
   "metadata": {},
   "outputs": [
    {
     "name": "stdout",
     "output_type": "stream",
     "text": [
      "[30375, 50131.64, 349440, 60122, 79990, 49900, 49341, 53829, 22999, 79548.3, 40820, 91345.26, 59900, 35418.97, 61000, 69000, 36050.6, 28950, 89000, 68536, 71345, 84999, 93150, 98738, 59900, 35043.8, 29471.2, 46040, 54999, 43500, 50522.3, 59320.79, 47698, 55700, 51827.9, 54680.5, 120000, 71920, 46493, 127003.6, 34900, 50705.78, 37200, 143090, 49946, 58975, 36800, 166945, 51700, 54640]\n",
      "[{'Item': 'Whisky Johnnie Walker Red Label X 1 Litro', 'Precio': 30375}, {'Item': 'Johnnie Walker Black Label X Litro', 'Precio': 50131.64}, {'Item': 'Johnnie Walker Blue Label X750cc', 'Precio': 349440}, {'Item': 'Johnnie Walker Black Label 1 Litro Con Estuche', 'Precio': 60122}, {'Item': 'Whisky Johnny Walker Jw Gold Label Reserve Johnnie 750ml', 'Precio': 79990}, {'Item': 'Whisky Johnnie Walker Double Black Blended Escocés 750ml', 'Precio': 49900}, {'Item': 'Johnny Walker Black Label Whisky 750 Ml', 'Precio': 49341}, {'Item': 'Whisky Johnnie Walker Double Black 750cc - Origen Escocia', 'Precio': 53829}, {'Item': 'Whisky Escocés Blended Red Label Johnnie Walker 750ml', 'Precio': 22999}, {'Item': 'Whisky Johnnie Walker Swing Escoces Blended 750ml', 'Precio': 79548.3}, {'Item': 'Whisky Johnny Walker Importado Johnnie Black Label 750 Ml', 'Precio': 40820}, {'Item': 'Whisky Johnnie Walker Swing 750', 'Precio': 91345.26}, {'Item': 'Experiencia Whisky Johnny Walker Black Label 750c Box Regal', 'Precio': 59900}, {'Item': 'Whisky Johnnie Walker Red Label 750 Ml', 'Precio': 35418.97}, {'Item': 'Box Whisky Johnny Walker Black Label Vasos Negros Grabados', 'Precio': 61000}, {'Item': 'Box Whisky Johnny Walker Double Black Vasos Negros Grabados', 'Precio': 69000}, {'Item': 'Whisky Johnny Walker Red Label 750ml', 'Precio': 36050.6}, {'Item': 'Whisky Johnnie Walker Red Label 750ml.-', 'Precio': 28950}, {'Item': 'Whisky Johnny Walker A Song Of Fire Game Of Thrones', 'Precio': 89000}, {'Item': 'Whisky Johnny Walker Black Label 1 L Etiqueta Negra Premium', 'Precio': 68536}, {'Item': 'Whisky Johnny Walker Black Label 1 Litro Importado Premium', 'Precio': 71345}, {'Item': 'Whisky Johnny Walker Gold Label Reserve 750ml', 'Precio': 84999}, {'Item': 'Box Whisky Johnny Walker Double Black Vasos Negros Grabados', 'Precio': 93150}, {'Item': 'Whisky Johnnie Walker Swing Johnny 750ml Escoces Blended Jw ', 'Precio': 98738}, {'Item': 'Experiencia Jhonny Walker Black Label 750ml Box Grabado', 'Precio': 59900}, {'Item': 'Whisky Johnny Johnnie Walker Red Label X 1000ml', 'Precio': 35043.8}, {'Item': 'Whisky Johnny Johnnie Walker Red Label X 750ml', 'Precio': 29471.2}, {'Item': 'Whisky Johnny Walker Red Label 1 Litro - Oferta Celler ', 'Precio': 46040}, {'Item': 'Whisky Johnnie Walker Black Label 750ml Escoces - Gobar®', 'Precio': 54999}, {'Item': 'Whisky Johnny Walker Black Label 750 Ml Etiqueta Negra Wisky', 'Precio': 43500}, {'Item': 'Whisky Johnny Johnnie Walker Black 750ml', 'Precio': 50522.3}, {'Item': 'Whisky Johnny Walker Black Jw Etiqueta Negra Johny 750ml ', 'Precio': 59320.79}, {'Item': 'Johnnie Walker Black Label 12 Años X750ml. - Whisky Escocia', 'Precio': 47698}, {'Item': 'Whisky Johnnie Walker Black Label 1000cc - Tienda Baltimore', 'Precio': 55700}, {'Item': 'Whisky Johnnie Walker Black Label 12 Años 750ml Zetta Bebida', 'Precio': 51827.9}, {'Item': 'Whisky Johnny Walker Red Label + Ballantines Finest ', 'Precio': 54680.5}, {'Item': 'Box Whisky Johnny Walker Gold Label Vasos Negros Grabados', 'Precio': 120000}, {'Item': 'Whisky Johnnie Walker Black Label 1000 Ml + Caja Madera ', 'Precio': 71920}, {'Item': 'Whisky Johnny Walker Importado Johnnie Black Label 750 Ml', 'Precio': 46493}, {'Item': 'Whisky Johnny Walker Double Black + Black Label', 'Precio': 127003.6}, {'Item': 'Whisky Johnny Walker Red Label 1000ml 1 Litro Jw J.w. Rojo', 'Precio': 34900}, {'Item': 'Whisky Johnnie Walker Black 750', 'Precio': 50705.78}, {'Item': 'Whisky', 'Precio': 37200}, {'Item': 'Pack X3 Johnnie Walker Black Label X750ml. - Whisky Escocia', 'Precio': 143090}, {'Item': 'Whisky Johnny Walker Importado Johnnie Black Label 750 Ml', 'Precio': 49946}, {'Item': 'Whisky Johnny Johnnie Walker Double Black X 750ml', 'Precio': 58975}, {'Item': 'Whisky Johnny Walker Red Label Importado 750 Ml Johnnie', 'Precio': 36800}, {'Item': 'Whisky Johnnie Walker Black Label X3u', 'Precio': 166945}, {'Item': 'Whisky Johnnie Walker Black Label 1lt', 'Precio': 51700}, {'Item': 'Johnnie Black Label Estuche Ferrero X12 Zetta Bebidas Regalo', 'Precio': 54640}]\n"
     ]
    },
    {
     "data": {
      "text/html": [
       "<div>\n",
       "<style scoped>\n",
       "    .dataframe tbody tr th:only-of-type {\n",
       "        vertical-align: middle;\n",
       "    }\n",
       "\n",
       "    .dataframe tbody tr th {\n",
       "        vertical-align: top;\n",
       "    }\n",
       "\n",
       "    .dataframe thead th {\n",
       "        text-align: right;\n",
       "    }\n",
       "</style>\n",
       "<table border=\"1\" class=\"dataframe\">\n",
       "  <thead>\n",
       "    <tr style=\"text-align: right;\">\n",
       "      <th></th>\n",
       "      <th>Item</th>\n",
       "      <th>Precio</th>\n",
       "    </tr>\n",
       "  </thead>\n",
       "  <tbody>\n",
       "    <tr>\n",
       "      <th>32</th>\n",
       "      <td>Johnnie Walker Black Label 12 Años X750ml. - W...</td>\n",
       "      <td>47698.0</td>\n",
       "    </tr>\n",
       "    <tr>\n",
       "      <th>44</th>\n",
       "      <td>Whisky Johnny Walker Importado Johnnie Black L...</td>\n",
       "      <td>49946.0</td>\n",
       "    </tr>\n",
       "    <tr>\n",
       "      <th>8</th>\n",
       "      <td>Whisky Escocés Blended Red Label Johnnie Walke...</td>\n",
       "      <td>22999.0</td>\n",
       "    </tr>\n",
       "    <tr>\n",
       "      <th>20</th>\n",
       "      <td>Whisky Johnny Walker Black Label 1 Litro Impor...</td>\n",
       "      <td>71345.0</td>\n",
       "    </tr>\n",
       "    <tr>\n",
       "      <th>2</th>\n",
       "      <td>Johnnie Walker Blue Label X750cc</td>\n",
       "      <td>349440.0</td>\n",
       "    </tr>\n",
       "    <tr>\n",
       "      <th>7</th>\n",
       "      <td>Whisky Johnnie Walker Double Black 750cc - Ori...</td>\n",
       "      <td>53829.0</td>\n",
       "    </tr>\n",
       "    <tr>\n",
       "      <th>22</th>\n",
       "      <td>Box Whisky Johnny Walker Double Black Vasos Ne...</td>\n",
       "      <td>93150.0</td>\n",
       "    </tr>\n",
       "  </tbody>\n",
       "</table>\n",
       "</div>"
      ],
      "text/plain": [
       "                                                 Item    Precio\n",
       "32  Johnnie Walker Black Label 12 Años X750ml. - W...   47698.0\n",
       "44  Whisky Johnny Walker Importado Johnnie Black L...   49946.0\n",
       "8   Whisky Escocés Blended Red Label Johnnie Walke...   22999.0\n",
       "20  Whisky Johnny Walker Black Label 1 Litro Impor...   71345.0\n",
       "2                    Johnnie Walker Blue Label X750cc  349440.0\n",
       "7   Whisky Johnnie Walker Double Black 750cc - Ori...   53829.0\n",
       "22  Box Whisky Johnny Walker Double Black Vasos Ne...   93150.0"
      ]
     },
     "execution_count": 8,
     "metadata": {},
     "output_type": "execute_result"
    }
   ],
   "source": [
    "#Procedemos similarmente al punto anterior para formular un catalogo que incluya el nombre de las publicaciones junto a su precio.\n",
    "p = 0\n",
    "Precios=[]\n",
    "while p<len(data['results']):\n",
    "    item = data['results'][p]['price']\n",
    "    Precios.append(item)\n",
    "    p=p+1\n",
    "print(Precios)\n",
    "#realizamos una lista llamada catalogo para unir a ella en forma de diccionario las variables pertenecientes a Precios y listado\n",
    "p = 0\n",
    "catalogo=[]\n",
    "while p<len(data['results']):\n",
    "    catalogo.append({'Item':listado[p], 'Precio':Precios[p]})\n",
    "\n",
    "    p=p+1\n",
    "print(catalogo)\n",
    "#Convertimos la lista en un dataframe con pandas\n",
    "catalogo_df=pd.DataFrame(catalogo)\n",
    "catalogo_df.sample(7)"
   ]
  },
  {
   "cell_type": "code",
   "execution_count": 4,
   "metadata": {},
   "outputs": [
    {
     "name": "stdout",
     "output_type": "stream",
     "text": [
      "La media del catalogo es 67859.0128. Asimismo, el maximo y minimo son 349440.0 y 22999.0 respectivamente\n"
     ]
    }
   ],
   "source": [
    "#Utilizamos las funciones de los dataframes para buscar los valores deseados, marcando que los valores deben pertenecer a la columna de Precio\n",
    "media = catalogo_df['Precio'].mean()\n",
    "maximo = catalogo_df['Precio'].max()\n",
    "minimo = catalogo_df['Precio'].min()\n",
    "print(f\"La media del catalogo es {media}. Asimismo, el maximo y minimo son {maximo} y {minimo} respectivamente\")"
   ]
  },
  {
   "cell_type": "markdown",
   "metadata": {},
   "source": [
    "#### Ejercicio 3\n",
    "Armen un histograma de los precios. ¿Ven algún <i>outlier<i>? \n",
    "Nota: pueden usar la librería de Matplotlib o la de Pandas."
   ]
  },
  {
   "cell_type": "code",
   "execution_count": 5,
   "metadata": {},
   "outputs": [
    {
     "data": {
      "text/plain": [
       "Text(0.5, 1.0, 'Histograma de precios')"
      ]
     },
     "execution_count": 5,
     "metadata": {},
     "output_type": "execute_result"
    },
    {
     "data": {
      "image/png": "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",
      "text/plain": [
       "<Figure size 640x480 with 1 Axes>"
      ]
     },
     "metadata": {},
     "output_type": "display_data"
    }
   ],
   "source": [
    "plt.hist(catalogo_df['Precio'], color='skyblue', edgecolor='black')\n",
    "plt.xlabel('Precio')\n",
    "plt.ylabel('Frecuencia')\n",
    "plt.title('Histograma de precios')\n",
    "#Observamos un outlier notorio, el cual se puede deber a que el valor de un whisky varia en base a muchas variables, como el tipo de barrica utilizada...\n",
    "#O el tiempo que se mantuvo estacionado. Esto sucede aun bajo la misma marca."
   ]
  },
  {
   "cell_type": "markdown",
   "metadata": {},
   "source": [
    "#### Ejercicio 4\n",
    "Realicen alguna consulta adicional utilizando la API de Mercado Libre (debe ser alguna consulta que no se haya visto en clase. Por ejemplo, obtener los ítems de un vendedor en particular, obtener los productos de una categoría u otros). Analicen los resultados y comenten uno o dos que les parezcan interesantes (por ejemplo, precios promedio de los productos de un vendedor, diferencia entre el precio original y actual, si acepta mercado pago para la compra de productos, etc.) "
   ]
  },
  {
   "cell_type": "code",
   "execution_count": 6,
   "metadata": {},
   "outputs": [
    {
     "name": "stdout",
     "output_type": "stream",
     "text": [
      "MLA105385\n"
     ]
    },
    {
     "data": {
      "text/plain": [
       "{'id': 'MLA105385',\n",
       " 'name': 'Cartucheras',\n",
       " 'picture': None,\n",
       " 'permalink': None,\n",
       " 'total_items_in_this_category': 25770,\n",
       " 'path_from_root': [{'id': 'MLA1368', 'name': 'Arte, Librería y Mercería'},\n",
       "  {'id': 'MLA5982', 'name': 'Librería'},\n",
       "  {'id': 'MLA455745', 'name': 'Escolar'},\n",
       "  {'id': 'MLA105385', 'name': 'Cartucheras'}],\n",
       " 'children_categories': [],\n",
       " 'attribute_types': 'variations',\n",
       " 'settings': {'adult_content': False,\n",
       "  'buying_allowed': True,\n",
       "  'buying_modes': ['buy_it_now', 'auction'],\n",
       "  'catalog_domain': 'MLA-PENCIL_CASES',\n",
       "  'coverage_areas': 'not_allowed',\n",
       "  'currencies': ['ARS'],\n",
       "  'fragile': False,\n",
       "  'immediate_payment': 'required',\n",
       "  'item_conditions': ['not_specified', 'used', 'new'],\n",
       "  'items_reviews_allowed': False,\n",
       "  'listing_allowed': True,\n",
       "  'max_description_length': 50000,\n",
       "  'max_pictures_per_item': 12,\n",
       "  'max_pictures_per_item_var': 10,\n",
       "  'max_sub_title_length': 70,\n",
       "  'max_title_length': 60,\n",
       "  'max_variations_allowed': 100,\n",
       "  'maximum_price': None,\n",
       "  'maximum_price_currency': 'ARS',\n",
       "  'minimum_price': 750,\n",
       "  'minimum_price_currency': 'ARS',\n",
       "  'mirror_category': None,\n",
       "  'mirror_master_category': None,\n",
       "  'mirror_slave_categories': [],\n",
       "  'price': 'required',\n",
       "  'reservation_allowed': 'not_allowed',\n",
       "  'restrictions': [],\n",
       "  'rounded_address': False,\n",
       "  'seller_contact': 'not_allowed',\n",
       "  'shipping_options': ['carrier', 'custom'],\n",
       "  'shipping_profile': 'optional',\n",
       "  'show_contact_information': False,\n",
       "  'simple_shipping': 'optional',\n",
       "  'stock': 'required',\n",
       "  'sub_vertical': 'other',\n",
       "  'subscribable': False,\n",
       "  'tags': [],\n",
       "  'vertical': 'other',\n",
       "  'vip_subdomain': 'articulo',\n",
       "  'buyer_protection_programs': ['delivered', 'undelivered'],\n",
       "  'status': 'enabled'},\n",
       " 'channels_settings': [{'channel': 'mshops', 'settings': {'minimum_price': 0}},\n",
       "  {'channel': 'proximity', 'settings': {'status': 'disabled'}},\n",
       "  {'channel': 'mp-merchants',\n",
       "   'settings': {'buying_modes': ['buy_it_now'],\n",
       "    'immediate_payment': 'required',\n",
       "    'minimum_price': 1,\n",
       "    'status': 'enabled'}},\n",
       "  {'channel': 'mp-link',\n",
       "   'settings': {'buying_modes': ['buy_it_now'],\n",
       "    'immediate_payment': 'required',\n",
       "    'minimum_price': 1,\n",
       "    'status': 'enabled'}}],\n",
       " 'meta_categ_id': None,\n",
       " 'attributable': False,\n",
       " 'date_created': '2018-04-25T08:12:56.000Z'}"
      ]
     },
     "execution_count": 6,
     "metadata": {},
     "output_type": "execute_result"
    }
   ],
   "source": [
    "#En este bloque repetimos el primer paso utilizado en el ejericio 1 con el fin de obtener el id de la categoria de nuestra busqueda\n",
    "#Esto es bajo el supuesto de que la busqueda no es lo suficientemente amplia como para tener distintas categorias de productos.\n",
    "\n",
    "buscar = \"cartuchera de 3 pisos\"\n",
    "url = \"https://api.mercadolibre.com/sites/{}/search?q={}\".format(\"MLA\", buscar.replace(\" \", \"%20\"))\n",
    "response = requests.request(\"GET\", url)\n",
    "data = response.json()\n",
    "categoria = data['results'][0]['category_id']\n",
    "print(categoria)\n",
    "url = \"https://api.mercadolibre.com/categories/{}\".format(categoria)\n",
    "response = requests.request(\"GET\", url)\n",
    "data = response.json()\n",
    "data\n",
    "#De esta manera conseguimos distintos datos sobre la categoria que buscamos, como la cantidad de productos bajo esta categoria, los metodos de compra y \n",
    "#las condiciones en las cuales podemos encontrar los productos."
   ]
  },
  {
   "cell_type": "markdown",
   "metadata": {},
   "source": [
    "### Parte B"
   ]
  },
  {
   "cell_type": "markdown",
   "metadata": {},
   "source": [
    "#### Ejercicio 5\n",
    "De la página de noticias del [diario La Nación](https://www.lanacion.com.ar/), utilicen herramientas de web scraping para obtener los links de las noticias de la portada. Guarden los links obtenidos en un dataframe y expórtenlo a un archivo de excel.\n",
    "\n",
    "Nota 1: es posible que logren obtener los links a las noticias sin el dominio: \"https://www.lanacion.com.ar/\". De ser así, concatenen el dominio a la ruta del link obtenido, tal que se obtenga un link al que se pueda acceder. Es decir, que las cadenas de caracteres finales tendrán la forma: https://www.lanacion.com.ar/*texto_obtenido*)\n",
    "\n",
    "Nota 2: junto con su entrega, adjunten una captura de la página de noticias al momento de correr su código. Eso servirá al momento de la corrección para verificar que los links obtenidos hacen referencia a las noticias de ese día y hora."


from bs4 import BeautifulSoup #html parser #Importamos las funciones necesarias.
url = "https://www.lanacion.com.ar/"  #Definimos la url principal

LN_html = requests.get(url) #Extraigo el contenido del html
contenido =LN_html.content

soup = BeautifulSoup(contenido, "html.parser")
soup

links_elements = soup.find('a', class_='link ln-link flex flex-column --unstyled') #Buscamos los links dentro de la sopa e indicamos la clase.

#Extraemos los links que tienen la raíz href
primer_link = links_elements.get('href')

print(links_elements) #Printeamos la clase.
print('\n', primer_link)  #Printeamos el primer link.

#Arriba solo obtuvimos el primer elemento con el tag <a href>. Ahora con la función soup.fin_all armamos una lista con todos los elementos que empiezan de esa manera

total_links = soup.find_all('a')

print(type(total_links))
print('\n', total_links) 

#Armamos un loop para extraer todos los links de La Nación 

for link in total_links:
  a_text = link.get('href')
  print(a_text)

#Ahora armo una lista ordenada de títulos a partir de lista creada con soup.find.all

for i in total_links:
  a_text = i.get('href')
  print(a_text)

# Ahora creamos una lista vacía para completar con los enlaces correspondientes
links = []

for link in total_links:
    a_text = link.get('href')
    print(a_text)

    links.append({
        'Enlace': a_text
    })

links_df = pd.DataFrame(links) #En la columna izquierda contendrá el número del link y la columna derecha los enlances

#Concatenamos la raíz solo a aquellos links la perdieron al ser screpeados 
for index, row in links_df.iterrows():
    i = row['Enlace']
    if not i.startswith(url):
        links_df.at[index, 'Enlace'] = url + i 

links_df #Printeamos para verificar. 

#Como se puede observar, todos los elementos de la columna Enlance comienzan con la raiz

#Exportamos el df como archivo xlsx

ruta_excel = 'C:\rena\FACULTAD\MATERIAS\IV\I\BIG DATA\Tutoriales\TP 1\DF.xlsx'

links_df.to_excel(ruta_excel, index=False)
print("DataFrame de links exportado a Excel.")
   ]
  }
 ],
 "metadata": {
  "anaconda-cloud": {},
  "colab": {
   "name": "TP1 - Parte 1.ipynb",
   "provenance": []
  },
  "kernelspec": {
   "display_name": "Python 3 (ipykernel)",
   "language": "python",
   "name": "python3"
  },
  "language_info": {
   "codemirror_mode": {
    "name": "ipython",
    "version": 3
   },
   "file_extension": ".py",
   "mimetype": "text/x-python",
   "name": "python",
   "nbconvert_exporter": "python",
   "pygments_lexer": "ipython3",
   "version": "3.11.5"
  }
 },
 "nbformat": 4,
 "nbformat_minor": 1
}
